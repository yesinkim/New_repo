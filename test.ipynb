{
 "cells": [
  {
   "cell_type": "code",
   "execution_count": 4,
   "metadata": {},
   "outputs": [],
   "source": [
    "from nlp.models.rnn import RNN\n",
    "from nlp.models.base import RNNBase\n",
    "\n",
    "rnn_custom = RNN(20, 20, 1, batch_first=True)"
   ]
  },
  {
   "cell_type": "code",
   "execution_count": 5,
   "metadata": {},
   "outputs": [
    {
     "data": {
      "text/plain": [
       "[RNNCell(\n",
       "   (ih): Linear(in_features=20, out_features=20, bias=True)\n",
       "   (hh): Linear(in_features=20, out_features=20, bias=True)\n",
       " )]"
      ]
     },
     "execution_count": 5,
     "metadata": {},
     "output_type": "execute_result"
    }
   ],
   "source": [
    "rnn_custom.forward_rnn"
   ]
  },
  {
   "cell_type": "code",
   "execution_count": 15,
   "metadata": {},
   "outputs": [
    {
     "data": {
      "text/plain": [
       "OrderedDict()"
      ]
     },
     "execution_count": 15,
     "metadata": {},
     "output_type": "execute_result"
    }
   ],
   "source": [
    "rnn_custom.state_dict()"
   ]
  },
  {
   "cell_type": "code",
   "execution_count": 1,
   "metadata": {},
   "outputs": [
    {
     "name": "stdout",
     "output_type": "stream",
     "text": [
      "batch_size: 3\n",
      "sequence_size: 5\n",
      "연산 cell: RNNCell(\n",
      "  (ih): Linear(in_features=10, out_features=20, bias=True)\n",
      "  (hh): Linear(in_features=20, out_features=20, bias=True)\n",
      ")\n",
      "layer_idx가 0일때 input_state의 차원: torch.Size([5, 3, 10])\n",
      "0th h_i : torch.Size([3, 20])\n",
      "i_1: torch.Size([3, 10])\n",
      "h_1: torch.Size([3, 20])\n",
      "i_2: torch.Size([3, 10])\n",
      "h_2: torch.Size([3, 20])\n",
      "i_3: torch.Size([3, 10])\n",
      "h_3: torch.Size([3, 20])\n",
      "i_4: torch.Size([3, 10])\n",
      "h_4: torch.Size([3, 20])\n",
      "i_5: torch.Size([3, 10])\n",
      "h_5: torch.Size([3, 20])\n",
      "예상한 hidden_state의 dim: [batch_size, hidden_size * sequence_length, hidden_size]\n",
      "hidden_state_0 : torch.Size([5, 3, 20])\n",
      "연산 cell: RNNCell(\n",
      "  (ih): Linear(in_features=20, out_features=20, bias=True)\n",
      "  (hh): Linear(in_features=20, out_features=20, bias=True)\n",
      ")\n",
      "1 layer input_state : torch.Size([5, 3, 20])\n",
      "1th h_i : torch.Size([3, 20])\n",
      "i_1: torch.Size([3, 20])\n",
      "h_1: torch.Size([3, 20])\n",
      "i_2: torch.Size([3, 20])\n",
      "h_2: torch.Size([3, 20])\n",
      "i_3: torch.Size([3, 20])\n",
      "h_3: torch.Size([3, 20])\n",
      "i_4: torch.Size([3, 20])\n",
      "h_4: torch.Size([3, 20])\n",
      "i_5: torch.Size([3, 20])\n",
      "h_5: torch.Size([3, 20])\n",
      "예상한 hidden_state의 dim: [batch_size, hidden_size * sequence_length, hidden_size]\n",
      "hidden_state_1 : torch.Size([5, 3, 20])\n",
      "hidden_states : torch.Size([2, 5, 3, 20])\n"
     ]
    }
   ],
   "source": [
    "import torch\n",
    "from nlp.models.rnn import RNN\n",
    "\n",
    "input = torch.randn(5, 3, 10) # sequence_lenth, batch_size, hidden_size\n",
    "\n",
    "rnn_custom = RNN(input_size=10, hidden_size=20, num_layers=2, bidirectional=False, batch_first=False)\n",
    "output, hn = rnn_custom(input)"
   ]
  },
  {
   "cell_type": "code",
   "execution_count": 4,
   "metadata": {},
   "outputs": [
    {
     "data": {
      "text/plain": [
       "(torch.Size([5, 3, 20]), torch.Size([1, 1, 3, 20]))"
      ]
     },
     "execution_count": 4,
     "metadata": {},
     "output_type": "execute_result"
    }
   ],
   "source": [
    "# output.size(), hn.size()"
   ]
  },
  {
   "cell_type": "code",
   "execution_count": 13,
   "metadata": {},
   "outputs": [],
   "source": [
    "import torch\n",
    "import torch.nn as nn\n",
    "\n",
    "rnn_pt = nn.RNN(10, 20)\n",
    "output, hn = rnn_pt(input)"
   ]
  },
  {
   "cell_type": "code",
   "execution_count": 14,
   "metadata": {},
   "outputs": [
    {
     "name": "stdout",
     "output_type": "stream",
     "text": [
      "weight_ih_l0 -> size : torch.Size([20, 10])\n",
      "weight_hh_l0 -> size : torch.Size([20, 20])\n",
      "bias_ih_l0 -> size : torch.Size([20])\n",
      "bias_hh_l0 -> size : torch.Size([20])\n"
     ]
    }
   ],
   "source": [
    "for name, state in rnn_pt.state_dict().items():\n",
    "    print(f\"{name} -> size : {state.shape}\")"
   ]
  },
  {
   "cell_type": "code",
   "execution_count": 16,
   "metadata": {},
   "outputs": [],
   "source": [
    "class Model(nn.Module): # 반드시 상속 받기 \n",
    "    def __init__(self, input_shape):\n",
    "        super(Model, self).__init__()\n",
    "        self.layer1 = nn.Linear(input_shape, 32)\n",
    "        self.layer2 = nn.Linear(32, 64)\n",
    "        self.layer_out = nn.Linear(64,1)\n",
    "        \n",
    "        self.relu = nn.ReLU()\n",
    "    \n",
    "    # input, output, graph -> forward 를 overriding 함으로써 구현 \n",
    "    def forward(self, x):\n",
    "        x = self.relu(self.layer1(x))\n",
    "        x = self.relu(self.layer2(x))\n",
    "        x = self.layer_out(x)\n",
    "        return x"
   ]
  },
  {
   "cell_type": "code",
   "execution_count": 18,
   "metadata": {},
   "outputs": [
    {
     "name": "stdout",
     "output_type": "stream",
     "text": [
      "torch.Size([32, 30])\n",
      "torch.Size([32])\n",
      "torch.Size([64, 32])\n",
      "torch.Size([64])\n",
      "torch.Size([1, 64])\n",
      "torch.Size([1])\n",
      "layer1.weight -> size : torch.Size([32, 30])\n",
      "layer1.bias -> size : torch.Size([32])\n",
      "layer2.weight -> size : torch.Size([64, 32])\n",
      "layer2.bias -> size : torch.Size([64])\n",
      "layer_out.weight -> size : torch.Size([1, 64])\n",
      "layer_out.bias -> size : torch.Size([1])\n"
     ]
    }
   ],
   "source": [
    "model = Model(30)\n",
    "\n",
    "# 현재 학습중인 weights\n",
    "for param in model.parameters():\n",
    "    print(param.shape)\n",
    "\n",
    "for name, state in model.state_dict().items():\n",
    "    print(f\"{name} -> size : {state.shape}\")"
   ]
  },
  {
   "cell_type": "code",
   "execution_count": 6,
   "metadata": {},
   "outputs": [
    {
     "name": "stdout",
     "output_type": "stream",
     "text": [
      "batch_size: 3\n",
      "sequence_size: 5\n",
      "input_f_state_0: torch.Size([5, 3, 10])\n",
      "forward_cell_0: torch.Size([3, 20])\n",
      "forward_cell_1: torch.Size([3, 20])\n",
      "forward_cell_2: torch.Size([3, 20])\n",
      "forward_cell_3: torch.Size([3, 20])\n",
      "forward_cell_4: torch.Size([3, 20])\n",
      "input_f_state_1: torch.Size([5, 3, 20])\n",
      "forward_cell_0: torch.Size([3, 20])\n",
      "forward_cell_1: torch.Size([3, 20])\n",
      "forward_cell_2: torch.Size([3, 20])\n",
      "forward_cell_3: torch.Size([3, 20])\n",
      "forward_cell_4: torch.Size([3, 20])\n",
      "hidden_states: torch.Size([4, 5, 3, 20])\n",
      "output_f_state: torch.Size([5, 3, 20])\n",
      "output_b_state: torch.Size([5, 3, 20])\n",
      "output: torch.Size([5, 3, 40])\n",
      "hidden_states : torch.Size([4, 5, 3, 20])\n"
     ]
    }
   ],
   "source": [
    "# input (5, 3, 10)\n",
    "birnn_custom = RNN(input_size=10, hidden_size=20, num_layers=2, bidirectional=True, batch_first=False)\n",
    "output, hn = birnn_custom(input)"
   ]
  },
  {
   "cell_type": "code",
   "execution_count": 6,
   "metadata": {},
   "outputs": [
    {
     "data": {
      "text/plain": [
       "torch.Size([3, 20])"
      ]
     },
     "execution_count": 6,
     "metadata": {},
     "output_type": "execute_result"
    }
   ],
   "source": [
    "output[0].size()"
   ]
  },
  {
   "cell_type": "code",
   "execution_count": 5,
   "metadata": {},
   "outputs": [
    {
     "data": {
      "text/plain": [
       "torch.Size([3, 20])"
      ]
     },
     "execution_count": 5,
     "metadata": {},
     "output_type": "execute_result"
    }
   ],
   "source": [
    "output[1].size()"
   ]
  },
  {
   "cell_type": "code",
   "execution_count": 13,
   "metadata": {},
   "outputs": [],
   "source": [
    "t1 = torch.randn([5, 3, 20])\n",
    "t2 = torch.randn([5, 3, 20])"
   ]
  },
  {
   "cell_type": "code",
   "execution_count": 18,
   "metadata": {},
   "outputs": [
    {
     "data": {
      "text/plain": [
       "torch.Size([5, 3, 40])"
      ]
     },
     "execution_count": 18,
     "metadata": {},
     "output_type": "execute_result"
    }
   ],
   "source": [
    "torch.cat([t1, t2], dim=2).size()"
   ]
  },
  {
   "cell_type": "code",
   "execution_count": 3,
   "metadata": {},
   "outputs": [
    {
     "name": "stdout",
     "output_type": "stream",
     "text": [
      "batch_size: 3\n",
      "sequence_size: 5\n",
      "input_f_state_0: torch.Size([5, 3, 10])\n",
      "forward_cell_0: torch.Size([3, 20])\n",
      "forward_cell_1: torch.Size([3, 20])\n",
      "forward_cell_2: torch.Size([3, 20])\n",
      "forward_cell_3: torch.Size([3, 20])\n",
      "forward_cell_4: torch.Size([3, 20])\n",
      "input_f_state_1: torch.Size([5, 3, 20])\n",
      "forward_cell_0: torch.Size([3, 20])\n",
      "forward_cell_1: torch.Size([3, 20])\n",
      "forward_cell_2: torch.Size([3, 20])\n",
      "forward_cell_3: torch.Size([3, 20])\n",
      "forward_cell_4: torch.Size([3, 20])\n",
      "input_f_state_2: torch.Size([5, 3, 20])\n",
      "forward_cell_0: torch.Size([3, 20])\n",
      "forward_cell_1: torch.Size([3, 20])\n",
      "forward_cell_2: torch.Size([3, 20])\n",
      "forward_cell_3: torch.Size([3, 20])\n",
      "forward_cell_4: torch.Size([3, 20])\n",
      "input_f_state_3: torch.Size([5, 3, 20])\n",
      "forward_cell_0: torch.Size([3, 20])\n",
      "forward_cell_1: torch.Size([3, 20])\n",
      "forward_cell_2: torch.Size([3, 20])\n",
      "forward_cell_3: torch.Size([3, 20])\n",
      "forward_cell_4: torch.Size([3, 20])\n",
      "input_f_state_4: torch.Size([5, 3, 20])\n",
      "forward_cell_0: torch.Size([3, 20])\n",
      "forward_cell_1: torch.Size([3, 20])\n",
      "forward_cell_2: torch.Size([3, 20])\n",
      "forward_cell_3: torch.Size([3, 20])\n",
      "forward_cell_4: torch.Size([3, 20])\n",
      "hidden_states: torch.Size([10, 5, 3, 20])\n",
      "output_f_state: torch.Size([5, 3, 20])\n",
      "output_b_state: torch.Size([5, 3, 20])\n",
      "output: torch.Size([5, 3, 40])\n",
      "hidden_states : torch.Size([10, 5, 3, 20])\n"
     ]
    }
   ],
   "source": [
    "birnn_custom = RNN(input_size=10, hidden_size=20, num_layers=5, bidirectional=True, batch_first=False)\n",
    "output, hn = birnn_custom(input)"
   ]
  },
  {
   "attachments": {},
   "cell_type": "markdown",
   "metadata": {},
   "source": [
    "# lstm"
   ]
  },
  {
   "cell_type": "code",
   "execution_count": 19,
   "metadata": {},
   "outputs": [
    {
     "ename": "TypeError",
     "evalue": "'type' object is not subscriptable",
     "output_type": "error",
     "traceback": [
      "\u001b[0;31m---------------------------------------------------------------------------\u001b[0m",
      "\u001b[0;31mTypeError\u001b[0m                                 Traceback (most recent call last)",
      "\u001b[1;32m/Users/yeshinkim/Sage/New_repo/test.ipynb Cell 17\u001b[0m in \u001b[0;36m<cell line: 2>\u001b[0;34m()\u001b[0m\n\u001b[1;32m      <a href='vscode-notebook-cell:/Users/yeshinkim/Sage/New_repo/test.ipynb#X20sZmlsZQ%3D%3D?line=0'>1</a>\u001b[0m \u001b[39mimport\u001b[39;00m \u001b[39mtorch\u001b[39;00m\n\u001b[0;32m----> <a href='vscode-notebook-cell:/Users/yeshinkim/Sage/New_repo/test.ipynb#X20sZmlsZQ%3D%3D?line=1'>2</a>\u001b[0m \u001b[39mfrom\u001b[39;00m \u001b[39mnlp\u001b[39;00m\u001b[39m.\u001b[39;00m\u001b[39mmodels\u001b[39;00m\u001b[39m.\u001b[39;00m\u001b[39mlstm\u001b[39;00m \u001b[39mimport\u001b[39;00m LSTM\n\u001b[1;32m      <a href='vscode-notebook-cell:/Users/yeshinkim/Sage/New_repo/test.ipynb#X20sZmlsZQ%3D%3D?line=3'>4</a>\u001b[0m \u001b[39minput\u001b[39m \u001b[39m=\u001b[39m torch\u001b[39m.\u001b[39mrandn(\u001b[39m5\u001b[39m, \u001b[39m3\u001b[39m, \u001b[39m10\u001b[39m)\n\u001b[1;32m      <a href='vscode-notebook-cell:/Users/yeshinkim/Sage/New_repo/test.ipynb#X20sZmlsZQ%3D%3D?line=4'>5</a>\u001b[0m lstm \u001b[39m=\u001b[39m LSTM(\u001b[39m10\u001b[39m, \u001b[39m20\u001b[39m, \u001b[39m2\u001b[39m, batch_first\u001b[39m=\u001b[39m\u001b[39mFalse\u001b[39;00m, bidirectinal\u001b[39m=\u001b[39m\u001b[39mFalse\u001b[39;00m)\n",
      "File \u001b[0;32m~/Sage/New_repo/nlp/models/lstm.py:43\u001b[0m, in \u001b[0;36m<module>\u001b[0;34m\u001b[0m\n\u001b[1;32m     38\u001b[0m         h_t \u001b[39m=\u001b[39m output_layer \u001b[39m*\u001b[39m torch\u001b[39m.\u001b[39mtanh(c_t)\n\u001b[1;32m     40\u001b[0m         \u001b[39mreturn\u001b[39;00m (h_t, c_t)\n\u001b[0;32m---> 43\u001b[0m \u001b[39mclass\u001b[39;00m \u001b[39mLSTM\u001b[39;00m(RNNBase):\n\u001b[1;32m     44\u001b[0m     \u001b[39mdef\u001b[39;00m \u001b[39m__init__\u001b[39m(\u001b[39mself\u001b[39m, \u001b[39m*\u001b[39margs, \u001b[39m*\u001b[39m\u001b[39m*\u001b[39mkwargs) \u001b[39m-\u001b[39m\u001b[39m>\u001b[39m \u001b[39mNone\u001b[39;00m:\n\u001b[1;32m     45\u001b[0m         \u001b[39msuper\u001b[39m(LSTM)\u001b[39m.\u001b[39m\u001b[39m__init__\u001b[39m(\u001b[39m\"\u001b[39m\u001b[39mLSTM\u001b[39m\u001b[39m\"\u001b[39m, \u001b[39m*\u001b[39margs, \u001b[39m*\u001b[39m\u001b[39m*\u001b[39mkwargs)\n",
      "File \u001b[0;32m~/Sage/New_repo/nlp/models/lstm.py:187\u001b[0m, in \u001b[0;36mLSTM\u001b[0;34m()\u001b[0m\n\u001b[1;32m    181\u001b[0m         c_n \u001b[39m=\u001b[39m (\n\u001b[1;32m    182\u001b[0m     cell_states[:, :, \u001b[39m-\u001b[39m\u001b[39m1\u001b[39m:, :] \u001b[39mif\u001b[39;00m \u001b[39mself\u001b[39m\u001b[39m.\u001b[39mbatch_first \u001b[39melse\u001b[39;00m cell_states[:, \u001b[39m-\u001b[39m\u001b[39m1\u001b[39m, :, :]\n\u001b[1;32m    183\u001b[0m         )\n\u001b[1;32m    184\u001b[0m         \u001b[39mreturn\u001b[39;00m output, (h_n, c_n)\n\u001b[0;32m--> 187\u001b[0m \u001b[39mdef\u001b[39;00m \u001b[39minit_layers\u001b[39m(\u001b[39mself\u001b[39m) \u001b[39m-\u001b[39m\u001b[39m>\u001b[39m List[LSTMCell]:\n\u001b[1;32m    188\u001b[0m     \u001b[39m\"\"\"상속받은 클래스의 init_layers 수행\"\"\"\u001b[39;00m\n\u001b[1;32m    189\u001b[0m     layers \u001b[39m=\u001b[39m []\n",
      "\u001b[0;31mTypeError\u001b[0m: 'type' object is not subscriptable"
     ]
    }
   ],
   "source": [
    "import torch\n",
    "from nlp.models.lstm import LSTM\n",
    "\n",
    "input = torch.randn(5, 3, 10)\n",
    "lstm = LSTM(10, 20, 2, batch_first=False, bidirectinal=False)\n",
    "output, hn = lstm(input)\n"
   ]
  },
  {
   "cell_type": "code",
   "execution_count": null,
   "metadata": {},
   "outputs": [],
   "source": []
  }
 ],
 "metadata": {
  "kernelspec": {
   "display_name": "estud",
   "language": "python",
   "name": "python3"
  },
  "language_info": {
   "codemirror_mode": {
    "name": "ipython",
    "version": 3
   },
   "file_extension": ".py",
   "mimetype": "text/x-python",
   "name": "python",
   "nbconvert_exporter": "python",
   "pygments_lexer": "ipython3",
   "version": "3.8.13"
  },
  "orig_nbformat": 4,
  "vscode": {
   "interpreter": {
    "hash": "391b1e7ce2e81530d6fa13507e2cf4fd1c09c0aaf5e54d082942efacf0dd49e1"
   }
  }
 },
 "nbformat": 4,
 "nbformat_minor": 2
}
