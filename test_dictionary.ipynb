{
 "cells": [
  {
   "attachments": {},
   "cell_type": "markdown",
   "metadata": {},
   "source": [
    "# import"
   ]
  },
  {
   "cell_type": "code",
   "execution_count": 3,
   "metadata": {},
   "outputs": [],
   "source": [
    "import pandas as pd"
   ]
  },
  {
   "cell_type": "code",
   "execution_count": 4,
   "metadata": {},
   "outputs": [],
   "source": [
    "train_df = pd.read_csv('data/sample/train.csv')\n",
    "train_df['korean'].to_csv('data/sample/train.ko', index=False)\n",
    "train_df['english'].to_csv('data/sample/train.en', index=False)"
   ]
  },
  {
   "cell_type": "code",
   "execution_count": 5,
   "metadata": {},
   "outputs": [],
   "source": [
    "valid_df = pd.read_csv('data/sample/valid.csv')\n",
    "valid_df['korean'].to_csv('data/sample/valid.ko', index=False)\n",
    "valid_df['english'].to_csv('data/sample/valid.en', index=False)"
   ]
  },
  {
   "attachments": {},
   "cell_type": "markdown",
   "metadata": {},
   "source": [
    "# Make ko_vocab, en_vocab"
   ]
  },
  {
   "cell_type": "code",
   "execution_count": 4,
   "metadata": {},
   "outputs": [],
   "source": [
    "from nlp.datasets.data_helper import create_or_load_tokenizer"
   ]
  },
  {
   "cell_type": "code",
   "execution_count": 5,
   "metadata": {},
   "outputs": [],
   "source": [
    "ko_vocab = create_or_load_tokenizer(\n",
    "    file_path = 'data/sample/train.ko',\n",
    "    save_path = 'dict/sample',\n",
    "    language = 'ko',\n",
    "    vocab_size = 8000,\n",
    "    tokenizer_type = 'unigram'\n",
    ")"
   ]
  },
  {
   "cell_type": "code",
   "execution_count": 6,
   "metadata": {},
   "outputs": [
    {
     "name": "stdout",
     "output_type": "stream",
     "text": [
      "8000\n",
      "['▁안녕하세요', '.', '▁저는', '▁김', '예', '신', '입니다', '.']\n",
      "안녕하세요. 저는 김예신입니다.\n"
     ]
    }
   ],
   "source": [
    "print(ko_vocab.GetPieceSize())\n",
    "text = '안녕하세요. 저는 김예신입니다.'\n",
    "idx_lst = ko_vocab.EncodeAsIds(text)\n",
    "print(ko_vocab.EncodeAsPieces(text))\n",
    "print(ko_vocab.DecodeIds(idx_lst))"
   ]
  },
  {
   "cell_type": "code",
   "execution_count": 7,
   "metadata": {},
   "outputs": [],
   "source": [
    "# make english tokenizer\n",
    "en_vocab = create_or_load_tokenizer(\n",
    "    file_path = 'data/sample/train.en',\n",
    "    save_path = 'dict/sample',\n",
    "    language = 'ko',\n",
    "    vocab_size = 8000,\n",
    "    tokenizer_type = 'unigram'\n",
    ")"
   ]
  },
  {
   "cell_type": "code",
   "execution_count": 8,
   "metadata": {},
   "outputs": [
    {
     "name": "stdout",
     "output_type": "stream",
     "text": [
      "8000\n",
      "[5, 2061, 6435, 1578, 862, 4, 5, 1043, 1787, 5, 1945, 804, 1043, 608, 5, 5695, 5, 1787, 608, 1002, 3366, 5, 2626, 1330, 1043, 59]\n",
      "['▁', 'h', 'el', 'l', 'o', '.', '▁', 'm', 'y', '▁', 'n', 'a', 'm', 'e', '▁', 'is', '▁', 'y', 'e', 's', 'in', '▁', 'k', 'i', 'm', '!']\n",
      "hello. my name is yesin kim!\n"
     ]
    }
   ],
   "source": [
    "print(en_vocab.GetPieceSize())\n",
    "text = 'hello. my name is yesin kim!'\n",
    "idx_lst = en_vocab.EncodeAsIds(text)\n",
    "print(idx_lst)\n",
    "print(en_vocab.EncodeAsPieces(text))\n",
    "print(en_vocab.DecodeIds(idx_lst))"
   ]
  },
  {
   "cell_type": "code",
   "execution_count": 9,
   "metadata": {},
   "outputs": [],
   "source": [
    "from nlp.datasets.data_helper import TrainDataset\n",
    "from torch.utils.data import DataLoader, RandomSampler\n",
    "\n",
    "dataset = TrainDataset(x_path=\"data/sample/train.ko\", src_vocab=ko_vocab, y_path=\"data/sample/train.en\", trg_vocab=en_vocab, max_sequence_size = 50)"
   ]
  },
  {
   "cell_type": "code",
   "execution_count": 13,
   "metadata": {},
   "outputs": [
    {
     "ename": "AttributeError",
     "evalue": "cannot assign module before Module.__init__() call",
     "output_type": "error",
     "traceback": [
      "\u001b[0;31m---------------------------------------------------------------------------\u001b[0m",
      "\u001b[0;31mAttributeError\u001b[0m                            Traceback (most recent call last)",
      "\u001b[1;32m/Users/yeshinkim/Sage/New_repo/test_dictionary.ipynb Cell 12\u001b[0m in \u001b[0;36m<cell line: 3>\u001b[0;34m()\u001b[0m\n\u001b[1;32m      <a href='vscode-notebook-cell:/Users/yeshinkim/Sage/New_repo/test_dictionary.ipynb#X13sZmlsZQ%3D%3D?line=0'>1</a>\u001b[0m \u001b[39mfrom\u001b[39;00m \u001b[39mnlp\u001b[39;00m\u001b[39m.\u001b[39;00m\u001b[39mmodels\u001b[39;00m\u001b[39m.\u001b[39;00m\u001b[39mseq2seq\u001b[39;00m \u001b[39mimport\u001b[39;00m Encoder, Decoder\n\u001b[0;32m----> <a href='vscode-notebook-cell:/Users/yeshinkim/Sage/New_repo/test_dictionary.ipynb#X13sZmlsZQ%3D%3D?line=2'>3</a>\u001b[0m encoder \u001b[39m=\u001b[39m Encoder(\n\u001b[1;32m      <a href='vscode-notebook-cell:/Users/yeshinkim/Sage/New_repo/test_dictionary.ipynb#X13sZmlsZQ%3D%3D?line=3'>4</a>\u001b[0m     input_size \u001b[39m=\u001b[39;49m \u001b[39m8000\u001b[39;49m,\n\u001b[1;32m      <a href='vscode-notebook-cell:/Users/yeshinkim/Sage/New_repo/test_dictionary.ipynb#X13sZmlsZQ%3D%3D?line=4'>5</a>\u001b[0m     hidden_size \u001b[39m=\u001b[39;49m \u001b[39m512\u001b[39;49m,\n\u001b[1;32m      <a href='vscode-notebook-cell:/Users/yeshinkim/Sage/New_repo/test_dictionary.ipynb#X13sZmlsZQ%3D%3D?line=5'>6</a>\u001b[0m     n_layers \u001b[39m=\u001b[39;49m \u001b[39m3\u001b[39;49m,\n\u001b[1;32m      <a href='vscode-notebook-cell:/Users/yeshinkim/Sage/New_repo/test_dictionary.ipynb#X13sZmlsZQ%3D%3D?line=6'>7</a>\u001b[0m     dropout \u001b[39m=\u001b[39;49m \u001b[39m0.1\u001b[39;49m,\n\u001b[1;32m      <a href='vscode-notebook-cell:/Users/yeshinkim/Sage/New_repo/test_dictionary.ipynb#X13sZmlsZQ%3D%3D?line=7'>8</a>\u001b[0m     bidirectional \u001b[39m=\u001b[39;49m \u001b[39mFalse\u001b[39;49;00m\n\u001b[1;32m      <a href='vscode-notebook-cell:/Users/yeshinkim/Sage/New_repo/test_dictionary.ipynb#X13sZmlsZQ%3D%3D?line=8'>9</a>\u001b[0m )\n",
      "File \u001b[0;32m~/Sage/New_repo/nlp/models/seq2seq.py:17\u001b[0m, in \u001b[0;36mEncoder.__init__\u001b[0;34m(self, input_size, hidden_size, n_layers, dropout, mode, batch_first, bias, bidirectional)\u001b[0m\n\u001b[1;32m      7\u001b[0m \u001b[39mdef\u001b[39;00m \u001b[39m__init__\u001b[39m(\n\u001b[1;32m      8\u001b[0m         \u001b[39mself\u001b[39m,\n\u001b[1;32m      9\u001b[0m         input_size: \u001b[39mint\u001b[39m,\n\u001b[0;32m   (...)\u001b[0m\n\u001b[1;32m     15\u001b[0m         bias: \u001b[39mbool\u001b[39m \u001b[39m=\u001b[39m \u001b[39mTrue\u001b[39;00m,\n\u001b[1;32m     16\u001b[0m         bidirectional: \u001b[39mbool\u001b[39m \u001b[39m=\u001b[39m \u001b[39mFalse\u001b[39;00m) \u001b[39m-\u001b[39m\u001b[39m>\u001b[39m \u001b[39mNone\u001b[39;00m:\n\u001b[0;32m---> 17\u001b[0m     \u001b[39mself\u001b[39m\u001b[39m.\u001b[39membedding \u001b[39m=\u001b[39m nn\u001b[39m.\u001b[39mEmbedding(input_size, hidden_size)\n\u001b[1;32m     18\u001b[0m     \u001b[39mself\u001b[39m\u001b[39m.\u001b[39mlayers \u001b[39m=\u001b[39m \u001b[39mself\u001b[39m\u001b[39m.\u001b[39mselect_mode(mode, hidden_size, n_layers, dropout, batch_first, bias, bidirectional)\n",
      "File \u001b[0;32m/opt/homebrew/Caskroom/miniconda/base/envs/estud/lib/python3.8/site-packages/torch/nn/modules/module.py:1206\u001b[0m, in \u001b[0;36mModule.__setattr__\u001b[0;34m(self, name, value)\u001b[0m\n\u001b[1;32m   1204\u001b[0m \u001b[39mif\u001b[39;00m \u001b[39misinstance\u001b[39m(value, Module):\n\u001b[1;32m   1205\u001b[0m     \u001b[39mif\u001b[39;00m modules \u001b[39mis\u001b[39;00m \u001b[39mNone\u001b[39;00m:\n\u001b[0;32m-> 1206\u001b[0m         \u001b[39mraise\u001b[39;00m \u001b[39mAttributeError\u001b[39;00m(\n\u001b[1;32m   1207\u001b[0m             \u001b[39m\"\u001b[39m\u001b[39mcannot assign module before Module.__init__() call\u001b[39m\u001b[39m\"\u001b[39m)\n\u001b[1;32m   1208\u001b[0m     remove_from(\u001b[39mself\u001b[39m\u001b[39m.\u001b[39m\u001b[39m__dict__\u001b[39m, \u001b[39mself\u001b[39m\u001b[39m.\u001b[39m_parameters, \u001b[39mself\u001b[39m\u001b[39m.\u001b[39m_buffers, \u001b[39mself\u001b[39m\u001b[39m.\u001b[39m_non_persistent_buffers_set)\n\u001b[1;32m   1209\u001b[0m     modules[name] \u001b[39m=\u001b[39m value\n",
      "\u001b[0;31mAttributeError\u001b[0m: cannot assign module before Module.__init__() call"
     ]
    }
   ],
   "source": [
    "from nlp.models.seq2seq import Encoder, Decoder\n",
    "\n",
    "encoder = Encoder(\n",
    "    input_size = 8000,\n",
    "    hidden_size = 512,\n",
    "    n_layers = 3,\n",
    "    dropout = 0.1,\n",
    "    bidirectional = False\n",
    ")"
   ]
  },
  {
   "cell_type": "code",
   "execution_count": null,
   "metadata": {},
   "outputs": [],
   "source": []
  }
 ],
 "metadata": {
  "kernelspec": {
   "display_name": "estud",
   "language": "python",
   "name": "python3"
  },
  "language_info": {
   "codemirror_mode": {
    "name": "ipython",
    "version": 3
   },
   "file_extension": ".py",
   "mimetype": "text/x-python",
   "name": "python",
   "nbconvert_exporter": "python",
   "pygments_lexer": "ipython3",
   "version": "3.8.13"
  },
  "orig_nbformat": 4,
  "vscode": {
   "interpreter": {
    "hash": "391b1e7ce2e81530d6fa13507e2cf4fd1c09c0aaf5e54d082942efacf0dd49e1"
   }
  }
 },
 "nbformat": 4,
 "nbformat_minor": 2
}
