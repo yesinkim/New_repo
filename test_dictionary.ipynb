{
 "cells": [
  {
   "attachments": {},
   "cell_type": "markdown",
   "metadata": {},
   "source": [
    "# import"
   ]
  },
  {
   "cell_type": "code",
   "execution_count": 1,
   "metadata": {},
   "outputs": [],
   "source": [
    "import pandas as pd"
   ]
  },
  {
   "cell_type": "code",
   "execution_count": 2,
   "metadata": {},
   "outputs": [],
   "source": [
    "train_df = pd.read_csv('data/sample/train.csv')\n",
    "train_df['korean'].to_csv('data/sample/train.ko', index=False)\n",
    "train_df['english'].to_csv('data/sample/train.en', index=False)"
   ]
  },
  {
   "cell_type": "code",
   "execution_count": 3,
   "metadata": {},
   "outputs": [],
   "source": [
    "valid_df = pd.read_csv('data/sample/valid.csv')\n",
    "valid_df['korean'].to_csv('data/sample/valid.ko', index=False)\n",
    "valid_df['english'].to_csv('data/sample/valid.en', index=False)"
   ]
  },
  {
   "attachments": {},
   "cell_type": "markdown",
   "metadata": {},
   "source": [
    "# Make ko_vocab, en_vocab"
   ]
  },
  {
   "cell_type": "code",
   "execution_count": 4,
   "metadata": {},
   "outputs": [],
   "source": [
    "from nlp.datasets.data_helper import create_or_load_tokenizer"
   ]
  },
  {
   "cell_type": "code",
   "execution_count": 5,
   "metadata": {},
   "outputs": [],
   "source": [
    "ko_vocab = create_or_load_tokenizer(\n",
    "    file_path = 'data/sample/train.ko',\n",
    "    save_path = 'dict/sample',\n",
    "    language = 'ko',\n",
    "    vocab_size = 8000,\n",
    "    tokenizer_type = 'unigram'\n",
    ")"
   ]
  },
  {
   "cell_type": "code",
   "execution_count": 6,
   "metadata": {},
   "outputs": [
    {
     "name": "stdout",
     "output_type": "stream",
     "text": [
      "8000\n",
      "['▁안녕하세요', '.', '▁저는', '▁김', '예', '신', '입니다', '.']\n",
      "안녕하세요. 저는 김예신입니다.\n"
     ]
    }
   ],
   "source": [
    "print(ko_vocab.GetPieceSize())\n",
    "text = '안녕하세요. 저는 김예신입니다.'\n",
    "idx_lst = ko_vocab.EncodeAsIds(text)\n",
    "print(ko_vocab.EncodeAsPieces(text))\n",
    "print(ko_vocab.DecodeIds(idx_lst))"
   ]
  },
  {
   "cell_type": "code",
   "execution_count": 7,
   "metadata": {},
   "outputs": [],
   "source": [
    "# make english tokenizer\n",
    "en_vocab = create_or_load_tokenizer(\n",
    "    file_path = 'data/sample/train.en',\n",
    "    save_path = 'dict/sample',\n",
    "    language = 'ko',\n",
    "    vocab_size = 8000,\n",
    "    tokenizer_type = 'unigram'\n",
    ")"
   ]
  },
  {
   "cell_type": "code",
   "execution_count": 8,
   "metadata": {},
   "outputs": [
    {
     "name": "stdout",
     "output_type": "stream",
     "text": [
      "8000\n",
      "[5, 2061, 6435, 1578, 862, 4, 5, 1043, 1787, 5, 1945, 804, 1043, 608, 5, 5695, 5, 1787, 608, 1002, 3366, 5, 2626, 1330, 1043, 59]\n",
      "['▁', 'h', 'el', 'l', 'o', '.', '▁', 'm', 'y', '▁', 'n', 'a', 'm', 'e', '▁', 'is', '▁', 'y', 'e', 's', 'in', '▁', 'k', 'i', 'm', '!']\n",
      "hello. my name is yesin kim!\n"
     ]
    }
   ],
   "source": [
    "print(en_vocab.GetPieceSize())\n",
    "text = 'hello. my name is yesin kim!'\n",
    "idx_lst = en_vocab.EncodeAsIds(text)\n",
    "print(idx_lst)\n",
    "print(en_vocab.EncodeAsPieces(text))\n",
    "print(en_vocab.DecodeIds(idx_lst))"
   ]
  },
  {
   "cell_type": "code",
   "execution_count": 9,
   "metadata": {},
   "outputs": [],
   "source": [
    "from nlp.datasets.data_helper import TrainDataset\n",
    "from torch.utils.data import DataLoader, RandomSampler\n",
    "\n",
    "dataset = TrainDataset(\n",
    "        x_path=\"data/sample/train.ko\",\n",
    "        src_vocab=ko_vocab,\n",
    "        y_path=\"data/sample/train.en\",\n",
    "        trg_vocab=en_vocab,\n",
    "        max_sequence_size=50\n",
    "    )\n",
    "\n",
    "sampler = RandomSampler(dataset)"
   ]
  },
  {
   "cell_type": "code",
   "execution_count": 10,
   "metadata": {},
   "outputs": [
    {
     "data": {
      "text/plain": [
       "(tensor([   5, 2626, 3450,  608, 3265,    3,    3,    3,    3,    3,    3,    3,\n",
       "            3,    3,    3,    3,    3,    3,    3,    3,    3,    3,    3,    3,\n",
       "            3,    3,    3,    3,    3,    3,    3,    3,    3,    3,    3,    3,\n",
       "            3,    3,    3,    3,    3,    3,    3,    3,    3,    3,    3,    3,\n",
       "            3,    3]),\n",
       " tensor([   0,    5, 5423, 1463, 1578, 5695, 2061,    3,    3,    3,    3,    3,\n",
       "            3,    3,    3,    3,    3,    3,    3,    3,    3,    3,    3,    3,\n",
       "            3,    3,    3,    3,    3,    3,    3,    3,    3,    3,    3,    3,\n",
       "            3,    3,    3,    3,    3,    3,    3,    3,    3,    3,    3,    3,\n",
       "            3,    3]),\n",
       " tensor([   5, 5423, 1463, 1578, 5695, 2061,    1,    3,    3,    3,    3,    3,\n",
       "            3,    3,    3,    3,    3,    3,    3,    3,    3,    3,    3,    3,\n",
       "            3,    3,    3,    3,    3,    3,    3,    3,    3,    3,    3,    3,\n",
       "            3,    3,    3,    3,    3,    3,    3,    3,    3,    3,    3,    3,\n",
       "            3,    3]))"
      ]
     },
     "execution_count": 10,
     "metadata": {},
     "output_type": "execute_result"
    }
   ],
   "source": [
    "dataset[0]"
   ]
  },
  {
   "cell_type": "code",
   "execution_count": 11,
   "metadata": {},
   "outputs": [
    {
     "ename": "TypeError",
     "evalue": "'type' object is not subscriptable",
     "output_type": "error",
     "traceback": [
      "\u001b[0;31m---------------------------------------------------------------------------\u001b[0m",
      "\u001b[0;31mTypeError\u001b[0m                                 Traceback (most recent call last)",
      "\u001b[1;32m/Users/yeshinkim/Sage/New_repo/test_dictionary.ipynb Cell 13\u001b[0m in \u001b[0;36m<cell line: 1>\u001b[0;34m()\u001b[0m\n\u001b[0;32m----> <a href='vscode-notebook-cell:/Users/yeshinkim/Sage/New_repo/test_dictionary.ipynb#X15sZmlsZQ%3D%3D?line=0'>1</a>\u001b[0m \u001b[39mfrom\u001b[39;00m \u001b[39mnlp\u001b[39;00m\u001b[39m.\u001b[39;00m\u001b[39mmodels\u001b[39;00m\u001b[39m.\u001b[39;00m\u001b[39mseq2seq\u001b[39;00m \u001b[39mimport\u001b[39;00m Encoder, Decoder\n\u001b[1;32m      <a href='vscode-notebook-cell:/Users/yeshinkim/Sage/New_repo/test_dictionary.ipynb#X15sZmlsZQ%3D%3D?line=2'>3</a>\u001b[0m encoder \u001b[39m=\u001b[39m Encoder(\n\u001b[1;32m      <a href='vscode-notebook-cell:/Users/yeshinkim/Sage/New_repo/test_dictionary.ipynb#X15sZmlsZQ%3D%3D?line=3'>4</a>\u001b[0m     input_size \u001b[39m=\u001b[39m \u001b[39m8000\u001b[39m,\n\u001b[1;32m      <a href='vscode-notebook-cell:/Users/yeshinkim/Sage/New_repo/test_dictionary.ipynb#X15sZmlsZQ%3D%3D?line=4'>5</a>\u001b[0m     hidden_size \u001b[39m=\u001b[39m \u001b[39m512\u001b[39m,\n\u001b[0;32m   (...)\u001b[0m\n\u001b[1;32m      <a href='vscode-notebook-cell:/Users/yeshinkim/Sage/New_repo/test_dictionary.ipynb#X15sZmlsZQ%3D%3D?line=7'>8</a>\u001b[0m     bidirectional \u001b[39m=\u001b[39m \u001b[39mFalse\u001b[39;00m\n\u001b[1;32m      <a href='vscode-notebook-cell:/Users/yeshinkim/Sage/New_repo/test_dictionary.ipynb#X15sZmlsZQ%3D%3D?line=8'>9</a>\u001b[0m )\n",
      "File \u001b[0;32m~/Sage/New_repo/nlp/models/seq2seq.py:11\u001b[0m, in \u001b[0;36m<module>\u001b[0;34m\u001b[0m\n\u001b[1;32m      7\u001b[0m \u001b[39mimport\u001b[39;00m \u001b[39mtorch\u001b[39;00m\u001b[39m.\u001b[39;00m\u001b[39mnn\u001b[39;00m\u001b[39m.\u001b[39;00m\u001b[39mfunctional\u001b[39;00m \u001b[39mas\u001b[39;00m \u001b[39mF\u001b[39;00m\n\u001b[1;32m      8\u001b[0m \u001b[39mfrom\u001b[39;00m \u001b[39mtorch\u001b[39;00m \u001b[39mimport\u001b[39;00m Tensor\n\u001b[0;32m---> 11\u001b[0m \u001b[39mclass\u001b[39;00m \u001b[39mEncoder\u001b[39;00m(nn\u001b[39m.\u001b[39mModule):\n\u001b[1;32m     12\u001b[0m     \u001b[39mdef\u001b[39;00m \u001b[39m__init__\u001b[39m(\n\u001b[1;32m     13\u001b[0m         \u001b[39mself\u001b[39m,\n\u001b[1;32m     14\u001b[0m         input_size: \u001b[39mint\u001b[39m,\n\u001b[0;32m   (...)\u001b[0m\n\u001b[1;32m     21\u001b[0m         bidirectional: \u001b[39mbool\u001b[39m \u001b[39m=\u001b[39m \u001b[39mFalse\u001b[39;00m,\n\u001b[1;32m     22\u001b[0m     ) \u001b[39m-\u001b[39m\u001b[39m>\u001b[39m \u001b[39mNone\u001b[39;00m:\n\u001b[1;32m     23\u001b[0m         \u001b[39msuper\u001b[39m()\u001b[39m.\u001b[39m\u001b[39m__init__\u001b[39m()\n",
      "File \u001b[0;32m~/Sage/New_repo/nlp/models/seq2seq.py:35\u001b[0m, in \u001b[0;36mEncoder\u001b[0;34m()\u001b[0m\n\u001b[1;32m     29\u001b[0m         \u001b[39mif\u001b[39;00m \u001b[39mhasattr\u001b[39m(m, \u001b[39m\"\u001b[39m\u001b[39mweight\u001b[39m\u001b[39m\"\u001b[39m) \u001b[39mand\u001b[39;00m m\u001b[39m.\u001b[39mweight\u001b[39m.\u001b[39mdim() \u001b[39m>\u001b[39m \u001b[39m1\u001b[39m:\n\u001b[1;32m     30\u001b[0m             nn\u001b[39m.\u001b[39minit\u001b[39m.\u001b[39mxavier_uniform_(m\u001b[39m.\u001b[39mweight\u001b[39m.\u001b[39mdata)\n\u001b[1;32m     32\u001b[0m \u001b[39mdef\u001b[39;00m \u001b[39mforward\u001b[39m(\n\u001b[1;32m     33\u001b[0m     \u001b[39mself\u001b[39m,\n\u001b[1;32m     34\u001b[0m     enc_input: Tensor,\n\u001b[0;32m---> 35\u001b[0m     enc_hidden: Optional[Union[Tensor, Tuple[Tensor]]] \u001b[39m=\u001b[39m \u001b[39mNone\u001b[39;00m,\n\u001b[1;32m     36\u001b[0m ):\n\u001b[1;32m     37\u001b[0m     embeded \u001b[39m=\u001b[39m \u001b[39mself\u001b[39m\u001b[39m.\u001b[39membedding(enc_input, enc_hidden)\n\u001b[1;32m     38\u001b[0m     output, hidden \u001b[39m=\u001b[39m \u001b[39mself\u001b[39m\u001b[39m.\u001b[39mlayers(embeded)\n",
      "\u001b[0;31mTypeError\u001b[0m: 'type' object is not subscriptable"
     ]
    }
   ],
   "source": [
    "from nlp.models.seq2seq import Encoder, Decoder\n",
    "\n",
    "encoder = Encoder(\n",
    "    input_size = 8000,\n",
    "    hidden_size = 512,\n",
    "    n_layers = 3,\n",
    "    dropout = 0.1,\n",
    "    bidirectional = False\n",
    ")"
   ]
  },
  {
   "cell_type": "code",
   "execution_count": 2,
   "metadata": {},
   "outputs": [
    {
     "ename": "TypeError",
     "evalue": "'type' object is not subscriptable",
     "output_type": "error",
     "traceback": [
      "\u001b[0;31m---------------------------------------------------------------------------\u001b[0m",
      "\u001b[0;31mTypeError\u001b[0m                                 Traceback (most recent call last)",
      "\u001b[1;32m/Users/yeshinkim/Sage/New_repo/test_dictionary.ipynb Cell 14\u001b[0m in \u001b[0;36m<cell line: 3>\u001b[0;34m()\u001b[0m\n\u001b[1;32m      <a href='vscode-notebook-cell:/Users/yeshinkim/Sage/New_repo/test_dictionary.ipynb#X16sZmlsZQ%3D%3D?line=0'>1</a>\u001b[0m \u001b[39mimport\u001b[39;00m \u001b[39mtorch\u001b[39;00m\n\u001b[1;32m      <a href='vscode-notebook-cell:/Users/yeshinkim/Sage/New_repo/test_dictionary.ipynb#X16sZmlsZQ%3D%3D?line=1'>2</a>\u001b[0m \u001b[39mfrom\u001b[39;00m \u001b[39mnlp\u001b[39;00m\u001b[39m.\u001b[39;00m\u001b[39mdatasets\u001b[39;00m\u001b[39m.\u001b[39;00m\u001b[39mdata_helper\u001b[39;00m \u001b[39mimport\u001b[39;00m create_or_load_tokenizer\n\u001b[0;32m----> <a href='vscode-notebook-cell:/Users/yeshinkim/Sage/New_repo/test_dictionary.ipynb#X16sZmlsZQ%3D%3D?line=2'>3</a>\u001b[0m \u001b[39mfrom\u001b[39;00m \u001b[39mnlp\u001b[39;00m\u001b[39m.\u001b[39;00m\u001b[39mmodels\u001b[39;00m\u001b[39m.\u001b[39;00m\u001b[39mseq2seq\u001b[39;00m \u001b[39mimport\u001b[39;00m Encoder, Decoder\n\u001b[1;32m      <a href='vscode-notebook-cell:/Users/yeshinkim/Sage/New_repo/test_dictionary.ipynb#X16sZmlsZQ%3D%3D?line=3'>4</a>\u001b[0m \u001b[39mfrom\u001b[39;00m \u001b[39mtorch\u001b[39;00m\u001b[39m.\u001b[39;00m\u001b[39mutils\u001b[39;00m\u001b[39m.\u001b[39;00m\u001b[39mdata\u001b[39;00m \u001b[39mimport\u001b[39;00m DataLoader, Dataset\n",
      "File \u001b[0;32m~/Sage/New_repo/nlp/models/seq2seq.py:9\u001b[0m, in \u001b[0;36m<module>\u001b[0;34m\u001b[0m\n\u001b[1;32m      5\u001b[0m \u001b[39mimport\u001b[39;00m \u001b[39mtorch\u001b[39;00m\u001b[39m.\u001b[39;00m\u001b[39mnn\u001b[39;00m\u001b[39m.\u001b[39;00m\u001b[39mfunctional\u001b[39;00m \u001b[39mas\u001b[39;00m \u001b[39mF\u001b[39;00m\n\u001b[1;32m      6\u001b[0m \u001b[39mfrom\u001b[39;00m \u001b[39mtorch\u001b[39;00m \u001b[39mimport\u001b[39;00m Tensor\n\u001b[0;32m----> 9\u001b[0m \u001b[39mclass\u001b[39;00m \u001b[39mEncoder\u001b[39;00m(nn\u001b[39m.\u001b[39mModule):\n\u001b[1;32m     10\u001b[0m     \u001b[39mdef\u001b[39;00m \u001b[39m__init__\u001b[39m(\n\u001b[1;32m     11\u001b[0m             \u001b[39mself\u001b[39m,\n\u001b[1;32m     12\u001b[0m             input_size: \u001b[39mint\u001b[39m,\n\u001b[0;32m   (...)\u001b[0m\n\u001b[1;32m     18\u001b[0m             bias: \u001b[39mbool\u001b[39m \u001b[39m=\u001b[39m \u001b[39mTrue\u001b[39;00m,\n\u001b[1;32m     19\u001b[0m             bidirectional: \u001b[39mbool\u001b[39m \u001b[39m=\u001b[39m \u001b[39mFalse\u001b[39;00m) \u001b[39m-\u001b[39m\u001b[39m>\u001b[39m \u001b[39mNone\u001b[39;00m:\n\u001b[1;32m     20\u001b[0m         \u001b[39msuper\u001b[39m()\u001b[39m.\u001b[39m\u001b[39m__init__\u001b[39m()\n",
      "File \u001b[0;32m~/Sage/New_repo/nlp/models/seq2seq.py:28\u001b[0m, in \u001b[0;36mEncoder\u001b[0;34m()\u001b[0m\n\u001b[1;32m     24\u001b[0m         \u001b[39mif\u001b[39;00m \u001b[39mhasattr\u001b[39m(m, \u001b[39m'\u001b[39m\u001b[39mweight\u001b[39m\u001b[39m'\u001b[39m) \u001b[39mand\u001b[39;00m m\u001b[39m.\u001b[39mweight\u001b[39m.\u001b[39mdim() \u001b[39m>\u001b[39m\u001b[39m1\u001b[39m:\n\u001b[1;32m     25\u001b[0m             nn\u001b[39m.\u001b[39minit\u001b[39m.\u001b[39mxavier_uniform_(m\u001b[39m.\u001b[39mweight\u001b[39m.\u001b[39mdata)\n\u001b[0;32m---> 28\u001b[0m \u001b[39mdef\u001b[39;00m \u001b[39mforward\u001b[39m(\u001b[39mself\u001b[39m, enc_input: Tensor, enc_hidden: Optional[Union[Tensor, Tuple[Tensor]]]\u001b[39m=\u001b[39m\u001b[39mNone\u001b[39;00m):\n\u001b[1;32m     29\u001b[0m     embeded \u001b[39m=\u001b[39m \u001b[39mself\u001b[39m\u001b[39m.\u001b[39membedding(enc_input, enc_hidden)\n\u001b[1;32m     30\u001b[0m     output, hidden \u001b[39m=\u001b[39m \u001b[39mself\u001b[39m\u001b[39m.\u001b[39mlayers(embeded)\n",
      "\u001b[0;31mTypeError\u001b[0m: 'type' object is not subscriptable"
     ]
    }
   ],
   "source": [
    "import torch\n",
    "from nlp.datasets.data_helper import create_or_load_tokenizer\n",
    "from nlp.models.seq2seq import Encoder, Decoder\n",
    "from torch.utils.data import DataLoader, Dataset"
   ]
  },
  {
   "cell_type": "code",
   "execution_count": 13,
   "metadata": {},
   "outputs": [],
   "source": [
    "encoder = Encoder(input_size=8000, hidden_size=512, n_layers=8, dropout=0.3, bidirectional=True)\n",
    "decoder = Decoder(output_size=8000, hidden_size=512, n_layers=8, dropout=0.3, bidirectional=True)"
   ]
  },
  {
   "cell_type": "code",
   "execution_count": 16,
   "metadata": {},
   "outputs": [
    {
     "name": "stdout",
     "output_type": "stream",
     "text": [
      "Encoder(\n",
      "  (embedding): Embedding(8000, 512)\n",
      "  (layers): LSTM(512, 512, num_layers=8, batch_first=True, dropout=0.3, bidirectional=True)\n",
      ")\n",
      "Embedding(8000, 512)\n",
      "Parameter containing:\n",
      "tensor([[ 0.7428, -0.1020, -0.0525,  ...,  1.5115, -0.0573,  1.2153],\n",
      "        [-2.3218, -0.1754,  1.5713,  ...,  1.0256, -1.4310, -0.1801],\n",
      "        [-0.8192,  0.2361, -1.1943,  ..., -0.4957, -0.4369, -0.3515],\n",
      "        ...,\n",
      "        [ 1.1463, -1.2596,  0.3857,  ..., -0.4990, -1.3533,  0.4075],\n",
      "        [-1.8850, -0.9584, -1.3129,  ...,  0.7355,  0.6511, -0.3671],\n",
      "        [ 0.9613, -1.2137,  1.7247,  ...,  0.1274, -0.9956, -1.0771]],\n",
      "       requires_grad=True)\n",
      "LSTM(512, 512, num_layers=8, batch_first=True, dropout=0.3, bidirectional=True)\n",
      "Decoder(\n",
      "  (embedding): Embedding(512, 8000)\n",
      "  (layers): LSTM(512, 512, num_layers=8, batch_first=True, dropout=0.3, bidirectional=True)\n",
      "  (linear): Linear(in_features=512, out_features=8000, bias=True)\n",
      "  (softmax): LogSoftmax(dim=1)\n",
      ")\n",
      "Embedding(512, 8000)\n",
      "LSTM(512, 512, num_layers=8, batch_first=True, dropout=0.3, bidirectional=True)\n",
      "Linear(in_features=512, out_features=8000, bias=True)\n",
      "LogSoftmax(dim=1)\n"
     ]
    }
   ],
   "source": [
    "for m in encoder.modules():\n",
    "    print(m)\n",
    "    if hasattr(m, 'weight'):\n",
    "        print(m.weight)\n",
    "\n",
    "for m in decoder.modules():\n",
    "    print(m)"
   ]
  },
  {
   "cell_type": "code",
   "execution_count": null,
   "metadata": {},
   "outputs": [],
   "source": [
    "max_sequence_size = 50\n",
    "\n",
    "for data in loader:\n",
    "    enc_input, dec_input, dec_output = data\n",
    "    enc_hidden = None\n",
    "    print(enc_input)\n",
    "    print(enc_input.size())\n",
    "    for i in range(max_sequence_size):\n",
    "        enc_input_i = enc_input[:, i]\n",
    "        _, enc_hidden = encoder(enc_input_i, enc_hidden)\n",
    "    dec_hidden = enc_hidden\n",
    "    for i in range(max_sequence_size):\n",
    "        dec_input_i = dec_input[:, i]\n",
    "        dec_output_i, dec_hidden = decoder(dec_input_i, dec_hidden)\n",
    "        decoder_output[:, i, :] = dec_output_i\n",
    "\n",
    "# context_vector = enc_hidden\n",
    "\n"
   ]
  }
 ],
 "metadata": {
  "kernelspec": {
   "display_name": "estud",
   "language": "python",
   "name": "python3"
  },
  "language_info": {
   "codemirror_mode": {
    "name": "ipython",
    "version": 3
   },
   "file_extension": ".py",
   "mimetype": "text/x-python",
   "name": "python",
   "nbconvert_exporter": "python",
   "pygments_lexer": "ipython3",
   "version": "3.8.13"
  },
  "orig_nbformat": 4,
  "vscode": {
   "interpreter": {
    "hash": "391b1e7ce2e81530d6fa13507e2cf4fd1c09c0aaf5e54d082942efacf0dd49e1"
   }
  }
 },
 "nbformat": 4,
 "nbformat_minor": 2
}
